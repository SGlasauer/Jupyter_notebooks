{
 "cells": [
  {
   "cell_type": "code",
   "execution_count": 1,
   "metadata": {},
   "outputs": [],
   "source": [
    "my_list =['AGGGT', 'tttcga', 'tgacccat', 'ggcagctgac']"
   ]
  },
  {
   "cell_type": "code",
   "execution_count": 2,
   "metadata": {},
   "outputs": [
    {
     "data": {
      "text/plain": [
       "'tgacccat'"
      ]
     },
     "execution_count": 2,
     "metadata": {},
     "output_type": "execute_result"
    }
   ],
   "source": [
    "my_list [2]"
   ]
  },
  {
   "cell_type": "code",
   "execution_count": 3,
   "metadata": {},
   "outputs": [],
   "source": [
    "my_list2 =('AGGGT', 'tttcga', 'tgacccat', 'ggcagctgac')"
   ]
  },
  {
   "cell_type": "code",
   "execution_count": 4,
   "metadata": {},
   "outputs": [
    {
     "data": {
      "text/plain": [
       "('AGGGT', 'tttcga', 'tgacccat', 'ggcagctgac')"
      ]
     },
     "execution_count": 4,
     "metadata": {},
     "output_type": "execute_result"
    }
   ],
   "source": [
    "my_list2"
   ]
  },
  {
   "cell_type": "code",
   "execution_count": 5,
   "metadata": {},
   "outputs": [
    {
     "ename": "NameError",
     "evalue": "name 'my_lig' is not defined",
     "output_type": "error",
     "traceback": [
      "\u001b[0;31m---------------------------------------------------------------------------\u001b[0m",
      "\u001b[0;31mNameError\u001b[0m                                 Traceback (most recent call last)",
      "\u001b[0;32m<ipython-input-5-3c7b862cf74b>\u001b[0m in \u001b[0;36m<module>\u001b[0;34m()\u001b[0m\n\u001b[0;32m----> 1\u001b[0;31m \u001b[0mmy_lig\u001b[0m \u001b[0;34m[\u001b[0m\u001b[0;36m0\u001b[0m\u001b[0;34m:\u001b[0m\u001b[0;34m]\u001b[0m\u001b[0;34m\u001b[0m\u001b[0m\n\u001b[0m",
      "\u001b[0;31mNameError\u001b[0m: name 'my_lig' is not defined"
     ]
    }
   ],
   "source": [
    "my_lig [0:]"
   ]
  },
  {
   "cell_type": "code",
   "execution_count": 6,
   "metadata": {},
   "outputs": [
    {
     "data": {
      "text/plain": [
       "['AGGGT', 'tttcga', 'tgacccat', 'ggcagctgac']"
      ]
     },
     "execution_count": 6,
     "metadata": {},
     "output_type": "execute_result"
    }
   ],
   "source": [
    "my_list [0:]"
   ]
  },
  {
   "cell_type": "code",
   "execution_count": 7,
   "metadata": {},
   "outputs": [
    {
     "data": {
      "text/plain": [
       "['AGGGT']"
      ]
     },
     "execution_count": 7,
     "metadata": {},
     "output_type": "execute_result"
    }
   ],
   "source": [
    "my_list [0:1]"
   ]
  },
  {
   "cell_type": "code",
   "execution_count": 8,
   "metadata": {},
   "outputs": [
    {
     "data": {
      "text/plain": [
       "['AGGGT', 'tttcga', 'tgacccat']"
      ]
     },
     "execution_count": 8,
     "metadata": {},
     "output_type": "execute_result"
    }
   ],
   "source": [
    "my_list [:3]"
   ]
  },
  {
   "cell_type": "code",
   "execution_count": 9,
   "metadata": {},
   "outputs": [],
   "source": [
    "num_cell = 6000"
   ]
  },
  {
   "cell_type": "code",
   "execution_count": 10,
   "metadata": {},
   "outputs": [
    {
     "data": {
      "text/plain": [
       "6000"
      ]
     },
     "execution_count": 10,
     "metadata": {},
     "output_type": "execute_result"
    }
   ],
   "source": [
    "num_cell"
   ]
  },
  {
   "cell_type": "code",
   "execution_count": 11,
   "metadata": {},
   "outputs": [
    {
     "ename": "NameError",
     "evalue": "name 'dtype' is not defined",
     "output_type": "error",
     "traceback": [
      "\u001b[0;31m---------------------------------------------------------------------------\u001b[0m",
      "\u001b[0;31mNameError\u001b[0m                                 Traceback (most recent call last)",
      "\u001b[0;32m<ipython-input-11-4f0a9fde9d8c>\u001b[0m in \u001b[0;36m<module>\u001b[0;34m()\u001b[0m\n\u001b[0;32m----> 1\u001b[0;31m \u001b[0mdtype\u001b[0m\u001b[0;34m(\u001b[0m\u001b[0mnum_cell\u001b[0m\u001b[0;34m)\u001b[0m\u001b[0;34m\u001b[0m\u001b[0m\n\u001b[0m",
      "\u001b[0;31mNameError\u001b[0m: name 'dtype' is not defined"
     ]
    }
   ],
   "source": [
    "dtype(num_cell)"
   ]
  },
  {
   "cell_type": "code",
   "execution_count": 12,
   "metadata": {},
   "outputs": [
    {
     "ename": "AttributeError",
     "evalue": "'int' object has no attribute 'dtype'",
     "output_type": "error",
     "traceback": [
      "\u001b[0;31m---------------------------------------------------------------------------\u001b[0m",
      "\u001b[0;31mAttributeError\u001b[0m                            Traceback (most recent call last)",
      "\u001b[0;32m<ipython-input-12-8530b4619fd3>\u001b[0m in \u001b[0;36m<module>\u001b[0;34m()\u001b[0m\n\u001b[0;32m----> 1\u001b[0;31m \u001b[0mnum_cell\u001b[0m\u001b[0;34m.\u001b[0m\u001b[0mdtype\u001b[0m\u001b[0;34m\u001b[0m\u001b[0m\n\u001b[0m",
      "\u001b[0;31mAttributeError\u001b[0m: 'int' object has no attribute 'dtype'"
     ]
    }
   ],
   "source": [
    "num_cell.dtype"
   ]
  },
  {
   "cell_type": "code",
   "execution_count": 13,
   "metadata": {},
   "outputs": [
    {
     "data": {
      "text/plain": [
       "int"
      ]
     },
     "execution_count": 13,
     "metadata": {},
     "output_type": "execute_result"
    }
   ],
   "source": [
    "type(num_cell)"
   ]
  },
  {
   "cell_type": "code",
   "execution_count": 18,
   "metadata": {},
   "outputs": [],
   "source": [
    "student_names = {\"Emily\":\"Wheeler\", \"Alexis\":\"Krup\"}"
   ]
  },
  {
   "cell_type": "code",
   "execution_count": 19,
   "metadata": {},
   "outputs": [
    {
     "data": {
      "text/plain": [
       "'Krup'"
      ]
     },
     "execution_count": 19,
     "metadata": {},
     "output_type": "execute_result"
    }
   ],
   "source": [
    "student_names[\"Alexis\"]"
   ]
  },
  {
   "cell_type": "code",
   "execution_count": 20,
   "metadata": {},
   "outputs": [
    {
     "data": {
      "text/plain": [
       "{'__name__': '__main__',\n",
       " '__doc__': 'Automatically created module for IPython interactive environment',\n",
       " '__package__': None,\n",
       " '__loader__': None,\n",
       " '__spec__': None,\n",
       " '__builtin__': <module 'builtins' (built-in)>,\n",
       " '__builtins__': <module 'builtins' (built-in)>,\n",
       " '_ih': ['',\n",
       "  \"my_list =['AGGGT', 'tttcga', 'tgacccat', 'ggcagctgac']\",\n",
       "  'my_list [2]',\n",
       "  \"my_list2 =('AGGGT', 'tttcga', 'tgacccat', 'ggcagctgac')\",\n",
       "  'my_list2',\n",
       "  'my_lig [0:]',\n",
       "  'my_list [0:]',\n",
       "  'my_list [0:1]',\n",
       "  'my_list [:3]',\n",
       "  'num_cell = 6000',\n",
       "  'num_cell',\n",
       "  'dtype(num_cell)',\n",
       "  'num_cell.dtype',\n",
       "  'type(num_cell)',\n",
       "  'student_names = dich {\"Emily\":\"Wheeler\", \"Alixis\":\"Krup\"}',\n",
       "  'student_names = dict {\"Emily\":\"Wheeler\", \"Alixis\":\"Krup\"}',\n",
       "  'student_names = {\"Emily\":\"Wheeler\", \"Alixis\":\"Krup\"}',\n",
       "  'student_names[\"Alexis\"]',\n",
       "  'student_names = {\"Emily\":\"Wheeler\", \"Alexis\":\"Krup\"}',\n",
       "  'student_names[\"Alexis\"]',\n",
       "  'locals()'],\n",
       " '_oh': {2: 'tgacccat',\n",
       "  4: ('AGGGT', 'tttcga', 'tgacccat', 'ggcagctgac'),\n",
       "  6: ['AGGGT', 'tttcga', 'tgacccat', 'ggcagctgac'],\n",
       "  7: ['AGGGT'],\n",
       "  8: ['AGGGT', 'tttcga', 'tgacccat'],\n",
       "  10: 6000,\n",
       "  13: int,\n",
       "  19: 'Krup'},\n",
       " '_dh': ['/home/ucsd-train13/jupyter_notebooks/macosko_analysis'],\n",
       " 'In': ['',\n",
       "  \"my_list =['AGGGT', 'tttcga', 'tgacccat', 'ggcagctgac']\",\n",
       "  'my_list [2]',\n",
       "  \"my_list2 =('AGGGT', 'tttcga', 'tgacccat', 'ggcagctgac')\",\n",
       "  'my_list2',\n",
       "  'my_lig [0:]',\n",
       "  'my_list [0:]',\n",
       "  'my_list [0:1]',\n",
       "  'my_list [:3]',\n",
       "  'num_cell = 6000',\n",
       "  'num_cell',\n",
       "  'dtype(num_cell)',\n",
       "  'num_cell.dtype',\n",
       "  'type(num_cell)',\n",
       "  'student_names = dich {\"Emily\":\"Wheeler\", \"Alixis\":\"Krup\"}',\n",
       "  'student_names = dict {\"Emily\":\"Wheeler\", \"Alixis\":\"Krup\"}',\n",
       "  'student_names = {\"Emily\":\"Wheeler\", \"Alixis\":\"Krup\"}',\n",
       "  'student_names[\"Alexis\"]',\n",
       "  'student_names = {\"Emily\":\"Wheeler\", \"Alexis\":\"Krup\"}',\n",
       "  'student_names[\"Alexis\"]',\n",
       "  'locals()'],\n",
       " 'Out': {2: 'tgacccat',\n",
       "  4: ('AGGGT', 'tttcga', 'tgacccat', 'ggcagctgac'),\n",
       "  6: ['AGGGT', 'tttcga', 'tgacccat', 'ggcagctgac'],\n",
       "  7: ['AGGGT'],\n",
       "  8: ['AGGGT', 'tttcga', 'tgacccat'],\n",
       "  10: 6000,\n",
       "  13: int,\n",
       "  19: 'Krup'},\n",
       " 'get_ipython': <bound method InteractiveShell.get_ipython of <ipykernel.zmqshell.ZMQInteractiveShell object at 0x2b7b9eaf43c8>>,\n",
       " 'exit': <IPython.core.autocall.ZMQExitAutocall at 0x2b7ba7d3c828>,\n",
       " 'quit': <IPython.core.autocall.ZMQExitAutocall at 0x2b7ba7d3c828>,\n",
       " '_': 'Krup',\n",
       " '__': int,\n",
       " '___': 6000,\n",
       " '_i': 'student_names[\"Alexis\"]',\n",
       " '_ii': 'student_names = {\"Emily\":\"Wheeler\", \"Alexis\":\"Krup\"}',\n",
       " '_iii': 'student_names[\"Alexis\"]',\n",
       " '_i1': \"my_list =['AGGGT', 'tttcga', 'tgacccat', 'ggcagctgac']\",\n",
       " 'my_list': ['AGGGT', 'tttcga', 'tgacccat', 'ggcagctgac'],\n",
       " '_i2': 'my_list [2]',\n",
       " '_2': 'tgacccat',\n",
       " '_i3': \"my_list2 =('AGGGT', 'tttcga', 'tgacccat', 'ggcagctgac')\",\n",
       " 'my_list2': ('AGGGT', 'tttcga', 'tgacccat', 'ggcagctgac'),\n",
       " '_i4': 'my_list2',\n",
       " '_4': ('AGGGT', 'tttcga', 'tgacccat', 'ggcagctgac'),\n",
       " '_i5': 'my_lig [0:]',\n",
       " '_i6': 'my_list [0:]',\n",
       " '_6': ['AGGGT', 'tttcga', 'tgacccat', 'ggcagctgac'],\n",
       " '_i7': 'my_list [0:1]',\n",
       " '_7': ['AGGGT'],\n",
       " '_i8': 'my_list [:3]',\n",
       " '_8': ['AGGGT', 'tttcga', 'tgacccat'],\n",
       " '_i9': 'num_cell = 6000',\n",
       " 'num_cell': 6000,\n",
       " '_i10': 'num_cell',\n",
       " '_10': 6000,\n",
       " '_i11': 'dtype(num_cell)',\n",
       " '_i12': 'num_cell.dtype',\n",
       " '_i13': 'type(num_cell)',\n",
       " '_13': int,\n",
       " '_i14': 'student_names = dich {\"Emily\":\"Wheeler\", \"Alixis\":\"Krup\"}',\n",
       " '_i15': 'student_names = dict {\"Emily\":\"Wheeler\", \"Alixis\":\"Krup\"}',\n",
       " '_i16': 'student_names = {\"Emily\":\"Wheeler\", \"Alixis\":\"Krup\"}',\n",
       " 'student_names': {'Emily': 'Wheeler', 'Alexis': 'Krup'},\n",
       " '_i17': 'student_names[\"Alexis\"]',\n",
       " '_i18': 'student_names = {\"Emily\":\"Wheeler\", \"Alexis\":\"Krup\"}',\n",
       " '_i19': 'student_names[\"Alexis\"]',\n",
       " '_19': 'Krup',\n",
       " '_i20': 'locals()'}"
      ]
     },
     "execution_count": 20,
     "metadata": {},
     "output_type": "execute_result"
    }
   ],
   "source": [
    "locals()"
   ]
  },
  {
   "cell_type": "code",
   "execution_count": null,
   "metadata": {},
   "outputs": [],
   "source": []
  }
 ],
 "metadata": {
  "kernelspec": {
   "display_name": "py3_cshl",
   "language": "python",
   "name": "python3"
  },
  "language_info": {
   "codemirror_mode": {
    "name": "ipython",
    "version": 3
   },
   "file_extension": ".py",
   "mimetype": "text/x-python",
   "name": "python",
   "nbconvert_exporter": "python",
   "pygments_lexer": "ipython3",
   "version": "3.6.6"
  }
 },
 "nbformat": 4,
 "nbformat_minor": 2
}
