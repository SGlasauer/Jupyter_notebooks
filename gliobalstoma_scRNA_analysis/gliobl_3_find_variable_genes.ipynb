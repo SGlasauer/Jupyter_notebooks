{
 "cells": [
  {
   "cell_type": "code",
   "execution_count": 2,
   "metadata": {},
   "outputs": [],
   "source": [
    "import pandas as pd\n",
    "from scipy import stats\n",
    "import numpy as np\n",
    "from matplotlib import pyplot as plt\n",
    "import seaborn as sns\n",
    "%matplotlib inline"
   ]
  },
  {
   "cell_type": "code",
   "execution_count": 3,
   "metadata": {},
   "outputs": [],
   "source": [
    "def make_var_df(input_csv):\n",
    "    tpm_df = pd.read_csv(input_csv, index_col=0)\n",
    "    coef_var = np.log10((tpm_df.std(axis=1)/tpm_df.mean(axis=1))**2)\n",
    "    means = np.log10(tpm_df.mean(axis=1))\n",
    "    result = stats.linregress(means, coef_var)\n",
    "    slope = result[0]\n",
    "    y_int = result[1]\n",
    "    var_df = pd.DataFrame([coef_var, means]).T\n",
    "    var_df.rename(columns = {0:'coef_var',1:'mean'}, inplace=True)\n",
    "    var_df['expected'] = var_df['mean']*slope + y_int\n",
    "    \n",
    "    return var_df"
   ]
  },
  {
   "cell_type": "code",
   "execution_count": 4,
   "metadata": {},
   "outputs": [],
   "source": [
    "tpm_input_file = \"/home/ucsd-train13/scratch/projects/rnaSeqAnalysis/tpm.csv\"\n",
    "#specify input file\n",
    "save_dir = \"/home/ucsd-train13/scratch/projects/rnaSeqAnalysis/\"\n",
    "#specify save directory"
   ]
  },
  {
   "cell_type": "code",
   "execution_count": 5,
   "metadata": {},
   "outputs": [
    {
     "name": "stdout",
     "output_type": "stream",
     "text": [
      "(13503, 2065)\n"
     ]
    },
    {
     "data": {
      "text/html": [
       "<div>\n",
       "<style scoped>\n",
       "    .dataframe tbody tr th:only-of-type {\n",
       "        vertical-align: middle;\n",
       "    }\n",
       "\n",
       "    .dataframe tbody tr th {\n",
       "        vertical-align: top;\n",
       "    }\n",
       "\n",
       "    .dataframe thead th {\n",
       "        text-align: right;\n",
       "    }\n",
       "</style>\n",
       "<table border=\"1\" class=\"dataframe\">\n",
       "  <thead>\n",
       "    <tr style=\"text-align: right;\">\n",
       "      <th></th>\n",
       "      <th>2</th>\n",
       "      <th>3</th>\n",
       "      <th>4</th>\n",
       "      <th>5</th>\n",
       "      <th>6</th>\n",
       "      <th>7</th>\n",
       "      <th>8</th>\n",
       "      <th>9</th>\n",
       "      <th>10</th>\n",
       "      <th>11</th>\n",
       "      <th>...</th>\n",
       "      <th>2057</th>\n",
       "      <th>2058</th>\n",
       "      <th>2059</th>\n",
       "      <th>2060</th>\n",
       "      <th>2061</th>\n",
       "      <th>2062</th>\n",
       "      <th>2063</th>\n",
       "      <th>2064</th>\n",
       "      <th>2065</th>\n",
       "      <th>2066</th>\n",
       "    </tr>\n",
       "    <tr>\n",
       "      <th>0</th>\n",
       "      <th></th>\n",
       "      <th></th>\n",
       "      <th></th>\n",
       "      <th></th>\n",
       "      <th></th>\n",
       "      <th></th>\n",
       "      <th></th>\n",
       "      <th></th>\n",
       "      <th></th>\n",
       "      <th></th>\n",
       "      <th></th>\n",
       "      <th></th>\n",
       "      <th></th>\n",
       "      <th></th>\n",
       "      <th></th>\n",
       "      <th></th>\n",
       "      <th></th>\n",
       "      <th></th>\n",
       "      <th></th>\n",
       "      <th></th>\n",
       "      <th></th>\n",
       "    </tr>\n",
       "  </thead>\n",
       "  <tbody>\n",
       "    <tr>\n",
       "      <th>ENSG00000118965.14</th>\n",
       "      <td>0.000000</td>\n",
       "      <td>0.000000</td>\n",
       "      <td>0.000000</td>\n",
       "      <td>0.000000</td>\n",
       "      <td>0.000000</td>\n",
       "      <td>0.000000</td>\n",
       "      <td>0.000000</td>\n",
       "      <td>0.000000</td>\n",
       "      <td>0.000000</td>\n",
       "      <td>0.000000</td>\n",
       "      <td>...</td>\n",
       "      <td>0.0</td>\n",
       "      <td>2.864509</td>\n",
       "      <td>0.000000</td>\n",
       "      <td>0.0</td>\n",
       "      <td>0.0</td>\n",
       "      <td>0.000000</td>\n",
       "      <td>0.0</td>\n",
       "      <td>0.0</td>\n",
       "      <td>0.000000</td>\n",
       "      <td>0.0</td>\n",
       "    </tr>\n",
       "    <tr>\n",
       "      <th>ENSG00000068079.7</th>\n",
       "      <td>0.199346</td>\n",
       "      <td>0.000000</td>\n",
       "      <td>0.000000</td>\n",
       "      <td>0.332602</td>\n",
       "      <td>0.683644</td>\n",
       "      <td>0.000000</td>\n",
       "      <td>0.347198</td>\n",
       "      <td>0.000000</td>\n",
       "      <td>0.000000</td>\n",
       "      <td>0.000000</td>\n",
       "      <td>...</td>\n",
       "      <td>0.0</td>\n",
       "      <td>0.000000</td>\n",
       "      <td>2.859594</td>\n",
       "      <td>0.0</td>\n",
       "      <td>0.0</td>\n",
       "      <td>0.000000</td>\n",
       "      <td>0.0</td>\n",
       "      <td>0.0</td>\n",
       "      <td>0.000000</td>\n",
       "      <td>0.0</td>\n",
       "    </tr>\n",
       "    <tr>\n",
       "      <th>ENSG00000120509.10</th>\n",
       "      <td>1.594769</td>\n",
       "      <td>1.791687</td>\n",
       "      <td>1.886259</td>\n",
       "      <td>0.665203</td>\n",
       "      <td>2.734575</td>\n",
       "      <td>2.067896</td>\n",
       "      <td>4.166377</td>\n",
       "      <td>1.121286</td>\n",
       "      <td>1.897389</td>\n",
       "      <td>1.186005</td>\n",
       "      <td>...</td>\n",
       "      <td>0.0</td>\n",
       "      <td>0.000000</td>\n",
       "      <td>5.719188</td>\n",
       "      <td>0.0</td>\n",
       "      <td>0.0</td>\n",
       "      <td>2.872738</td>\n",
       "      <td>0.0</td>\n",
       "      <td>0.0</td>\n",
       "      <td>11.524056</td>\n",
       "      <td>0.0</td>\n",
       "    </tr>\n",
       "    <tr>\n",
       "      <th>ENSG00000230614.3</th>\n",
       "      <td>0.000000</td>\n",
       "      <td>0.000000</td>\n",
       "      <td>0.000000</td>\n",
       "      <td>0.000000</td>\n",
       "      <td>0.000000</td>\n",
       "      <td>0.000000</td>\n",
       "      <td>0.000000</td>\n",
       "      <td>0.000000</td>\n",
       "      <td>0.000000</td>\n",
       "      <td>0.000000</td>\n",
       "      <td>...</td>\n",
       "      <td>0.0</td>\n",
       "      <td>0.000000</td>\n",
       "      <td>0.000000</td>\n",
       "      <td>0.0</td>\n",
       "      <td>0.0</td>\n",
       "      <td>0.000000</td>\n",
       "      <td>0.0</td>\n",
       "      <td>0.0</td>\n",
       "      <td>0.000000</td>\n",
       "      <td>0.0</td>\n",
       "    </tr>\n",
       "    <tr>\n",
       "      <th>ENSG00000166484.19</th>\n",
       "      <td>0.000000</td>\n",
       "      <td>0.298614</td>\n",
       "      <td>0.000000</td>\n",
       "      <td>0.000000</td>\n",
       "      <td>0.000000</td>\n",
       "      <td>0.344649</td>\n",
       "      <td>0.000000</td>\n",
       "      <td>0.373762</td>\n",
       "      <td>0.000000</td>\n",
       "      <td>0.000000</td>\n",
       "      <td>...</td>\n",
       "      <td>0.0</td>\n",
       "      <td>0.000000</td>\n",
       "      <td>0.000000</td>\n",
       "      <td>0.0</td>\n",
       "      <td>0.0</td>\n",
       "      <td>0.000000</td>\n",
       "      <td>0.0</td>\n",
       "      <td>0.0</td>\n",
       "      <td>0.000000</td>\n",
       "      <td>0.0</td>\n",
       "    </tr>\n",
       "  </tbody>\n",
       "</table>\n",
       "<p>5 rows × 2065 columns</p>\n",
       "</div>"
      ],
      "text/plain": [
       "                           2         3         4         5         6  \\\n",
       "0                                                                      \n",
       "ENSG00000118965.14  0.000000  0.000000  0.000000  0.000000  0.000000   \n",
       "ENSG00000068079.7   0.199346  0.000000  0.000000  0.332602  0.683644   \n",
       "ENSG00000120509.10  1.594769  1.791687  1.886259  0.665203  2.734575   \n",
       "ENSG00000230614.3   0.000000  0.000000  0.000000  0.000000  0.000000   \n",
       "ENSG00000166484.19  0.000000  0.298614  0.000000  0.000000  0.000000   \n",
       "\n",
       "                           7         8         9        10        11  ...   \\\n",
       "0                                                                     ...    \n",
       "ENSG00000118965.14  0.000000  0.000000  0.000000  0.000000  0.000000  ...    \n",
       "ENSG00000068079.7   0.000000  0.347198  0.000000  0.000000  0.000000  ...    \n",
       "ENSG00000120509.10  2.067896  4.166377  1.121286  1.897389  1.186005  ...    \n",
       "ENSG00000230614.3   0.000000  0.000000  0.000000  0.000000  0.000000  ...    \n",
       "ENSG00000166484.19  0.344649  0.000000  0.373762  0.000000  0.000000  ...    \n",
       "\n",
       "                    2057      2058      2059  2060  2061      2062  2063  \\\n",
       "0                                                                          \n",
       "ENSG00000118965.14   0.0  2.864509  0.000000   0.0   0.0  0.000000   0.0   \n",
       "ENSG00000068079.7    0.0  0.000000  2.859594   0.0   0.0  0.000000   0.0   \n",
       "ENSG00000120509.10   0.0  0.000000  5.719188   0.0   0.0  2.872738   0.0   \n",
       "ENSG00000230614.3    0.0  0.000000  0.000000   0.0   0.0  0.000000   0.0   \n",
       "ENSG00000166484.19   0.0  0.000000  0.000000   0.0   0.0  0.000000   0.0   \n",
       "\n",
       "                    2064       2065  2066  \n",
       "0                                          \n",
       "ENSG00000118965.14   0.0   0.000000   0.0  \n",
       "ENSG00000068079.7    0.0   0.000000   0.0  \n",
       "ENSG00000120509.10   0.0  11.524056   0.0  \n",
       "ENSG00000230614.3    0.0   0.000000   0.0  \n",
       "ENSG00000166484.19   0.0   0.000000   0.0  \n",
       "\n",
       "[5 rows x 2065 columns]"
      ]
     },
     "execution_count": 5,
     "metadata": {},
     "output_type": "execute_result"
    }
   ],
   "source": [
    "tpm = pd.read_csv(tpm_input_file, index_col=0)\n",
    "#load matrix\n",
    "print(tpm.shape)\n",
    "tpm.head()"
   ]
  },
  {
   "cell_type": "code",
   "execution_count": 6,
   "metadata": {},
   "outputs": [
    {
     "data": {
      "image/png": "[encoded data removed]",
      "text/plain": [
       "<Figure size 432x288 with 1 Axes>"
      ]
     },
     "metadata": {},
     "output_type": "display_data"
    }
   ],
   "source": [
    "#show expample of 1 cell\n",
    "plt.hist(tpm['2'])\n",
    "plt.ylabel(\"FPKM\")\n",
    "plt.show()"
   ]
  },
  {
   "cell_type": "code",
   "execution_count": 7,
   "metadata": {},
   "outputs": [
    {
     "data": {
      "text/plain": [
       "0\n",
       "ENSG00000118965.14    0.386870\n",
       "ENSG00000068079.7     0.695477\n",
       "ENSG00000120509.10    1.732233\n",
       "ENSG00000230614.3     0.187473\n",
       "ENSG00000166484.19    0.441267\n",
       "dtype: float64"
      ]
     },
     "execution_count": 7,
     "metadata": {},
     "output_type": "execute_result"
    }
   ],
   "source": [
    "###Define highly variable genes for downstream analyses\n",
    "#first calculate stdevs of all genes across cells\n",
    "sd = tpm.std(axis=1)\n",
    "sd.head()"
   ]
  },
  {
   "cell_type": "code",
   "execution_count": 8,
   "metadata": {},
   "outputs": [
    {
     "data": {
      "text/plain": [
       "0\n",
       "ENSG00000118965.14    0.082480\n",
       "ENSG00000068079.7     0.269128\n",
       "ENSG00000120509.10    1.598091\n",
       "ENSG00000230614.3     0.022248\n",
       "ENSG00000166484.19    0.108455\n",
       "dtype: float64"
      ]
     },
     "execution_count": 8,
     "metadata": {},
     "output_type": "execute_result"
    }
   ],
   "source": [
    "#calculate mean across genes\n",
    "mean_expr = tpm.mean(axis=1)\n",
    "mean_expr.head()"
   ]
  },
  {
   "cell_type": "code",
   "execution_count": 9,
   "metadata": {},
   "outputs": [
    {
     "data": {
      "text/plain": [
       "0\n",
       "ENSG00000118965.14    1.342433\n",
       "ENSG00000068079.7     0.824649\n",
       "ENSG00000120509.10    0.070010\n",
       "ENSG00000230614.3     1.851276\n",
       "ENSG00000166484.19    1.218908\n",
       "dtype: float64"
      ]
     },
     "execution_count": 9,
     "metadata": {},
     "output_type": "execute_result"
    }
   ],
   "source": [
    "#to calculate coefficient variation\n",
    "coef_var = np.log10((sd/mean_expr)**2)\n",
    "#####note: findsimilargenes in SEURAT does something similar\n",
    "coef_var.head()"
   ]
  },
  {
   "cell_type": "code",
   "execution_count": 10,
   "metadata": {},
   "outputs": [
    {
     "data": {
      "text/plain": [
       "0\n",
       "ENSG00000118965.14   -1.083651\n",
       "ENSG00000068079.7    -0.570042\n",
       "ENSG00000120509.10    0.203602\n",
       "ENSG00000230614.3    -1.652700\n",
       "ENSG00000166484.19   -0.964752\n",
       "dtype: float64"
      ]
     },
     "execution_count": 10,
     "metadata": {},
     "output_type": "execute_result"
    }
   ],
   "source": [
    "#calculate means of expression for all genes\n",
    "means = np.log10(mean_expr)\n",
    "means.head()"
   ]
  },
  {
   "cell_type": "code",
   "execution_count": 11,
   "metadata": {},
   "outputs": [
    {
     "data": {
      "text/plain": [
       "LinregressResult(slope=-0.959464180359913, intercept=0.29515746487660044, rvalue=-0.9967164548551524, pvalue=0.0, stderr=0.0006708166963083404)"
      ]
     },
     "execution_count": 11,
     "metadata": {},
     "output_type": "execute_result"
    }
   ],
   "source": [
    "reg_result = stats.linregress(means, coef_var)\n",
    "reg_result"
   ]
  },
  {
   "cell_type": "code",
   "execution_count": 12,
   "metadata": {},
   "outputs": [],
   "source": [
    "slope = reg_result[0]\n",
    "yint = reg_result[1]"
   ]
  },
  {
   "cell_type": "code",
   "execution_count": 13,
   "metadata": {},
   "outputs": [
    {
     "data": {
      "text/html": [
       "<div>\n",
       "<style scoped>\n",
       "    .dataframe tbody tr th:only-of-type {\n",
       "        vertical-align: middle;\n",
       "    }\n",
       "\n",
       "    .dataframe tbody tr th {\n",
       "        vertical-align: top;\n",
       "    }\n",
       "\n",
       "    .dataframe thead th {\n",
       "        text-align: right;\n",
       "    }\n",
       "</style>\n",
       "<table border=\"1\" class=\"dataframe\">\n",
       "  <thead>\n",
       "    <tr style=\"text-align: right;\">\n",
       "      <th></th>\n",
       "      <th>coef_var</th>\n",
       "      <th>mean</th>\n",
       "    </tr>\n",
       "    <tr>\n",
       "      <th>0</th>\n",
       "      <th></th>\n",
       "      <th></th>\n",
       "    </tr>\n",
       "  </thead>\n",
       "  <tbody>\n",
       "    <tr>\n",
       "      <th>ENSG00000118965.14</th>\n",
       "      <td>1.342433</td>\n",
       "      <td>-1.083651</td>\n",
       "    </tr>\n",
       "    <tr>\n",
       "      <th>ENSG00000068079.7</th>\n",
       "      <td>0.824649</td>\n",
       "      <td>-0.570042</td>\n",
       "    </tr>\n",
       "    <tr>\n",
       "      <th>ENSG00000120509.10</th>\n",
       "      <td>0.070010</td>\n",
       "      <td>0.203602</td>\n",
       "    </tr>\n",
       "    <tr>\n",
       "      <th>ENSG00000230614.3</th>\n",
       "      <td>1.851276</td>\n",
       "      <td>-1.652700</td>\n",
       "    </tr>\n",
       "    <tr>\n",
       "      <th>ENSG00000166484.19</th>\n",
       "      <td>1.218908</td>\n",
       "      <td>-0.964752</td>\n",
       "    </tr>\n",
       "  </tbody>\n",
       "</table>\n",
       "</div>"
      ],
      "text/plain": [
       "                    coef_var      mean\n",
       "0                                     \n",
       "ENSG00000118965.14  1.342433 -1.083651\n",
       "ENSG00000068079.7   0.824649 -0.570042\n",
       "ENSG00000120509.10  0.070010  0.203602\n",
       "ENSG00000230614.3   1.851276 -1.652700\n",
       "ENSG00000166484.19  1.218908 -0.964752"
      ]
     },
     "execution_count": 13,
     "metadata": {},
     "output_type": "execute_result"
    }
   ],
   "source": [
    "var_df = pd.DataFrame([coef_var, means]).T\n",
    "var_df.rename(columns = {0:\"coef_var\", 1:\"mean\"}, inplace=True)\n",
    "var_df.head()"
   ]
  },
  {
   "cell_type": "code",
   "execution_count": 14,
   "metadata": {},
   "outputs": [
    {
     "data": {
      "text/plain": [
       "<seaborn.axisgrid.FacetGrid at 0x2abbc70f6438>"
      ]
     },
     "execution_count": 14,
     "metadata": {},
     "output_type": "execute_result"
    },
    {
     "data": {
      "image/png": "[encoded data removed]",
      "text/plain": [
       "<Figure size 360x360 with 1 Axes>"
      ]
     },
     "metadata": {},
     "output_type": "display_data"
    }
   ],
   "source": [
    "sns.lmplot('mean', 'coef_var', var_df, fit_reg=False)"
   ]
  },
  {
   "cell_type": "code",
   "execution_count": 15,
   "metadata": {},
   "outputs": [
    {
     "data": {
      "text/html": [
       "<div>\n",
       "<style scoped>\n",
       "    .dataframe tbody tr th:only-of-type {\n",
       "        vertical-align: middle;\n",
       "    }\n",
       "\n",
       "    .dataframe tbody tr th {\n",
       "        vertical-align: top;\n",
       "    }\n",
       "\n",
       "    .dataframe thead th {\n",
       "        text-align: right;\n",
       "    }\n",
       "</style>\n",
       "<table border=\"1\" class=\"dataframe\">\n",
       "  <thead>\n",
       "    <tr style=\"text-align: right;\">\n",
       "      <th></th>\n",
       "      <th>coef_var</th>\n",
       "      <th>mean</th>\n",
       "      <th>expected</th>\n",
       "    </tr>\n",
       "    <tr>\n",
       "      <th>0</th>\n",
       "      <th></th>\n",
       "      <th></th>\n",
       "      <th></th>\n",
       "    </tr>\n",
       "  </thead>\n",
       "  <tbody>\n",
       "    <tr>\n",
       "      <th>ENSG00000118965.14</th>\n",
       "      <td>1.342433</td>\n",
       "      <td>-1.083651</td>\n",
       "      <td>1.334882</td>\n",
       "    </tr>\n",
       "    <tr>\n",
       "      <th>ENSG00000068079.7</th>\n",
       "      <td>0.824649</td>\n",
       "      <td>-0.570042</td>\n",
       "      <td>0.842092</td>\n",
       "    </tr>\n",
       "    <tr>\n",
       "      <th>ENSG00000120509.10</th>\n",
       "      <td>0.070010</td>\n",
       "      <td>0.203602</td>\n",
       "      <td>0.099809</td>\n",
       "    </tr>\n",
       "    <tr>\n",
       "      <th>ENSG00000230614.3</th>\n",
       "      <td>1.851276</td>\n",
       "      <td>-1.652700</td>\n",
       "      <td>1.880864</td>\n",
       "    </tr>\n",
       "    <tr>\n",
       "      <th>ENSG00000166484.19</th>\n",
       "      <td>1.218908</td>\n",
       "      <td>-0.964752</td>\n",
       "      <td>1.220803</td>\n",
       "    </tr>\n",
       "  </tbody>\n",
       "</table>\n",
       "</div>"
      ],
      "text/plain": [
       "                    coef_var      mean  expected\n",
       "0                                               \n",
       "ENSG00000118965.14  1.342433 -1.083651  1.334882\n",
       "ENSG00000068079.7   0.824649 -0.570042  0.842092\n",
       "ENSG00000120509.10  0.070010  0.203602  0.099809\n",
       "ENSG00000230614.3   1.851276 -1.652700  1.880864\n",
       "ENSG00000166484.19  1.218908 -0.964752  1.220803"
      ]
     },
     "execution_count": 15,
     "metadata": {},
     "output_type": "execute_result"
    }
   ],
   "source": [
    "var_df['expected'] = var_df['mean']*slope + yint\n",
    "var_df.head()"
   ]
  },
  {
   "cell_type": "code",
   "execution_count": 16,
   "metadata": {},
   "outputs": [
    {
     "data": {
      "text/html": [
       "<div>\n",
       "<style scoped>\n",
       "    .dataframe tbody tr th:only-of-type {\n",
       "        vertical-align: middle;\n",
       "    }\n",
       "\n",
       "    .dataframe tbody tr th {\n",
       "        vertical-align: top;\n",
       "    }\n",
       "\n",
       "    .dataframe thead th {\n",
       "        text-align: right;\n",
       "    }\n",
       "</style>\n",
       "<table border=\"1\" class=\"dataframe\">\n",
       "  <thead>\n",
       "    <tr style=\"text-align: right;\">\n",
       "      <th></th>\n",
       "      <th>coef_var</th>\n",
       "      <th>mean</th>\n",
       "      <th>expected</th>\n",
       "    </tr>\n",
       "    <tr>\n",
       "      <th>0</th>\n",
       "      <th></th>\n",
       "      <th></th>\n",
       "      <th></th>\n",
       "    </tr>\n",
       "  </thead>\n",
       "  <tbody>\n",
       "    <tr>\n",
       "      <th>ENSG00000118965.14</th>\n",
       "      <td>1.342433</td>\n",
       "      <td>-1.083651</td>\n",
       "      <td>1.334882</td>\n",
       "    </tr>\n",
       "    <tr>\n",
       "      <th>ENSG00000068079.7</th>\n",
       "      <td>0.824649</td>\n",
       "      <td>-0.570042</td>\n",
       "      <td>0.842092</td>\n",
       "    </tr>\n",
       "    <tr>\n",
       "      <th>ENSG00000120509.10</th>\n",
       "      <td>0.070010</td>\n",
       "      <td>0.203602</td>\n",
       "      <td>0.099809</td>\n",
       "    </tr>\n",
       "    <tr>\n",
       "      <th>ENSG00000230614.3</th>\n",
       "      <td>1.851276</td>\n",
       "      <td>-1.652700</td>\n",
       "      <td>1.880864</td>\n",
       "    </tr>\n",
       "    <tr>\n",
       "      <th>ENSG00000166484.19</th>\n",
       "      <td>1.218908</td>\n",
       "      <td>-0.964752</td>\n",
       "      <td>1.220803</td>\n",
       "    </tr>\n",
       "  </tbody>\n",
       "</table>\n",
       "</div>"
      ],
      "text/plain": [
       "                    coef_var      mean  expected\n",
       "0                                               \n",
       "ENSG00000118965.14  1.342433 -1.083651  1.334882\n",
       "ENSG00000068079.7   0.824649 -0.570042  0.842092\n",
       "ENSG00000120509.10  0.070010  0.203602  0.099809\n",
       "ENSG00000230614.3   1.851276 -1.652700  1.880864\n",
       "ENSG00000166484.19  1.218908 -0.964752  1.220803"
      ]
     },
     "execution_count": 16,
     "metadata": {},
     "output_type": "execute_result"
    }
   ],
   "source": [
    "var_df = make_var_df(tpm_input_file)\n",
    "var_df.head()"
   ]
  },
  {
   "cell_type": "code",
   "execution_count": 17,
   "metadata": {},
   "outputs": [
    {
     "data": {
      "text/html": [
       "<div>\n",
       "<style scoped>\n",
       "    .dataframe tbody tr th:only-of-type {\n",
       "        vertical-align: middle;\n",
       "    }\n",
       "\n",
       "    .dataframe tbody tr th {\n",
       "        vertical-align: top;\n",
       "    }\n",
       "\n",
       "    .dataframe thead th {\n",
       "        text-align: right;\n",
       "    }\n",
       "</style>\n",
       "<table border=\"1\" class=\"dataframe\">\n",
       "  <thead>\n",
       "    <tr style=\"text-align: right;\">\n",
       "      <th></th>\n",
       "      <th>coef_var</th>\n",
       "      <th>mean</th>\n",
       "      <th>expected</th>\n",
       "      <th>sig</th>\n",
       "    </tr>\n",
       "    <tr>\n",
       "      <th>0</th>\n",
       "      <th></th>\n",
       "      <th></th>\n",
       "      <th></th>\n",
       "      <th></th>\n",
       "    </tr>\n",
       "  </thead>\n",
       "  <tbody>\n",
       "    <tr>\n",
       "      <th>ENSG00000118965.14</th>\n",
       "      <td>1.342433</td>\n",
       "      <td>-1.083651</td>\n",
       "      <td>1.334882</td>\n",
       "      <td>False</td>\n",
       "    </tr>\n",
       "    <tr>\n",
       "      <th>ENSG00000068079.7</th>\n",
       "      <td>0.824649</td>\n",
       "      <td>-0.570042</td>\n",
       "      <td>0.842092</td>\n",
       "      <td>False</td>\n",
       "    </tr>\n",
       "    <tr>\n",
       "      <th>ENSG00000120509.10</th>\n",
       "      <td>0.070010</td>\n",
       "      <td>0.203602</td>\n",
       "      <td>0.099809</td>\n",
       "      <td>False</td>\n",
       "    </tr>\n",
       "    <tr>\n",
       "      <th>ENSG00000230614.3</th>\n",
       "      <td>1.851276</td>\n",
       "      <td>-1.652700</td>\n",
       "      <td>1.880864</td>\n",
       "      <td>False</td>\n",
       "    </tr>\n",
       "    <tr>\n",
       "      <th>ENSG00000166484.19</th>\n",
       "      <td>1.218908</td>\n",
       "      <td>-0.964752</td>\n",
       "      <td>1.220803</td>\n",
       "      <td>False</td>\n",
       "    </tr>\n",
       "  </tbody>\n",
       "</table>\n",
       "</div>"
      ],
      "text/plain": [
       "                    coef_var      mean  expected    sig\n",
       "0                                                      \n",
       "ENSG00000118965.14  1.342433 -1.083651  1.334882  False\n",
       "ENSG00000068079.7   0.824649 -0.570042  0.842092  False\n",
       "ENSG00000120509.10  0.070010  0.203602  0.099809  False\n",
       "ENSG00000230614.3   1.851276 -1.652700  1.880864  False\n",
       "ENSG00000166484.19  1.218908 -0.964752  1.220803  False"
      ]
     },
     "execution_count": 17,
     "metadata": {},
     "output_type": "execute_result"
    }
   ],
   "source": [
    "#define significant genes and add this as column\n",
    "var_df['sig'] = (var_df['coef_var'] - var_df['expected']) > 0.05\n",
    "var_df.head()"
   ]
  },
  {
   "cell_type": "code",
   "execution_count": 18,
   "metadata": {},
   "outputs": [
    {
     "data": {
      "text/plain": [
       "1211"
      ]
     },
     "execution_count": 18,
     "metadata": {},
     "output_type": "execute_result"
    }
   ],
   "source": [
    "var_df['sig'].sum()"
   ]
  },
  {
   "cell_type": "code",
   "execution_count": 19,
   "metadata": {},
   "outputs": [
    {
     "data": {
      "text/plain": [
       "<seaborn.axisgrid.FacetGrid at 0x2abbd5d5b358>"
      ]
     },
     "execution_count": 19,
     "metadata": {},
     "output_type": "execute_result"
    },
    {
     "data": {
      "image/png": "[encoded data removed]",
      "text/plain": [
       "<Figure size 422.125x360 with 1 Axes>"
      ]
     },
     "metadata": {},
     "output_type": "display_data"
    }
   ],
   "source": [
    "sns.lmplot('mean', 'coef_var', var_df, hue='sig', fit_reg=False)\n",
    "#plt.savefig(\"/path/to/save/pict/.tif\")"
   ]
  },
  {
   "cell_type": "code",
   "execution_count": 20,
   "metadata": {},
   "outputs": [
    {
     "name": "stdout",
     "output_type": "stream",
     "text": [
      "(1211, 2065)\n"
     ]
    },
    {
     "data": {
      "text/html": [
       "<div>\n",
       "<style scoped>\n",
       "    .dataframe tbody tr th:only-of-type {\n",
       "        vertical-align: middle;\n",
       "    }\n",
       "\n",
       "    .dataframe tbody tr th {\n",
       "        vertical-align: top;\n",
       "    }\n",
       "\n",
       "    .dataframe thead th {\n",
       "        text-align: right;\n",
       "    }\n",
       "</style>\n",
       "<table border=\"1\" class=\"dataframe\">\n",
       "  <thead>\n",
       "    <tr style=\"text-align: right;\">\n",
       "      <th></th>\n",
       "      <th>2</th>\n",
       "      <th>3</th>\n",
       "      <th>4</th>\n",
       "      <th>5</th>\n",
       "      <th>6</th>\n",
       "      <th>7</th>\n",
       "      <th>8</th>\n",
       "      <th>9</th>\n",
       "      <th>10</th>\n",
       "      <th>11</th>\n",
       "      <th>...</th>\n",
       "      <th>2057</th>\n",
       "      <th>2058</th>\n",
       "      <th>2059</th>\n",
       "      <th>2060</th>\n",
       "      <th>2061</th>\n",
       "      <th>2062</th>\n",
       "      <th>2063</th>\n",
       "      <th>2064</th>\n",
       "      <th>2065</th>\n",
       "      <th>2066</th>\n",
       "    </tr>\n",
       "    <tr>\n",
       "      <th>0</th>\n",
       "      <th></th>\n",
       "      <th></th>\n",
       "      <th></th>\n",
       "      <th></th>\n",
       "      <th></th>\n",
       "      <th></th>\n",
       "      <th></th>\n",
       "      <th></th>\n",
       "      <th></th>\n",
       "      <th></th>\n",
       "      <th></th>\n",
       "      <th></th>\n",
       "      <th></th>\n",
       "      <th></th>\n",
       "      <th></th>\n",
       "      <th></th>\n",
       "      <th></th>\n",
       "      <th></th>\n",
       "      <th></th>\n",
       "      <th></th>\n",
       "      <th></th>\n",
       "    </tr>\n",
       "  </thead>\n",
       "  <tbody>\n",
       "    <tr>\n",
       "      <th>ENSG00000130827.6</th>\n",
       "      <td>0.000000</td>\n",
       "      <td>0.000000</td>\n",
       "      <td>0.000000</td>\n",
       "      <td>0.000000</td>\n",
       "      <td>0.000000</td>\n",
       "      <td>0.000000</td>\n",
       "      <td>0.000000</td>\n",
       "      <td>0.000000</td>\n",
       "      <td>0.000000</td>\n",
       "      <td>0.000000</td>\n",
       "      <td>...</td>\n",
       "      <td>0.00000</td>\n",
       "      <td>0.000000</td>\n",
       "      <td>0.0</td>\n",
       "      <td>0.0</td>\n",
       "      <td>0.0</td>\n",
       "      <td>0.000000</td>\n",
       "      <td>0.0</td>\n",
       "      <td>0.0</td>\n",
       "      <td>0.000000</td>\n",
       "      <td>0.0</td>\n",
       "    </tr>\n",
       "    <tr>\n",
       "      <th>ENSG00000187123.14</th>\n",
       "      <td>0.000000</td>\n",
       "      <td>0.000000</td>\n",
       "      <td>0.000000</td>\n",
       "      <td>0.332602</td>\n",
       "      <td>0.000000</td>\n",
       "      <td>0.000000</td>\n",
       "      <td>0.000000</td>\n",
       "      <td>0.000000</td>\n",
       "      <td>0.000000</td>\n",
       "      <td>0.000000</td>\n",
       "      <td>...</td>\n",
       "      <td>0.00000</td>\n",
       "      <td>0.000000</td>\n",
       "      <td>0.0</td>\n",
       "      <td>0.0</td>\n",
       "      <td>0.0</td>\n",
       "      <td>0.000000</td>\n",
       "      <td>0.0</td>\n",
       "      <td>0.0</td>\n",
       "      <td>0.000000</td>\n",
       "      <td>0.0</td>\n",
       "    </tr>\n",
       "    <tr>\n",
       "      <th>ENSG00000272398.5</th>\n",
       "      <td>0.598038</td>\n",
       "      <td>0.895843</td>\n",
       "      <td>0.314376</td>\n",
       "      <td>0.000000</td>\n",
       "      <td>2.392753</td>\n",
       "      <td>1.378597</td>\n",
       "      <td>1.041594</td>\n",
       "      <td>0.373762</td>\n",
       "      <td>0.379478</td>\n",
       "      <td>0.395335</td>\n",
       "      <td>...</td>\n",
       "      <td>0.00000</td>\n",
       "      <td>0.000000</td>\n",
       "      <td>0.0</td>\n",
       "      <td>0.0</td>\n",
       "      <td>0.0</td>\n",
       "      <td>2.872738</td>\n",
       "      <td>0.0</td>\n",
       "      <td>0.0</td>\n",
       "      <td>0.000000</td>\n",
       "      <td>0.0</td>\n",
       "    </tr>\n",
       "    <tr>\n",
       "      <th>ENSG00000134852.14</th>\n",
       "      <td>0.398692</td>\n",
       "      <td>0.000000</td>\n",
       "      <td>0.314376</td>\n",
       "      <td>0.332602</td>\n",
       "      <td>0.000000</td>\n",
       "      <td>0.000000</td>\n",
       "      <td>0.000000</td>\n",
       "      <td>0.000000</td>\n",
       "      <td>1.138434</td>\n",
       "      <td>0.395335</td>\n",
       "      <td>...</td>\n",
       "      <td>0.00000</td>\n",
       "      <td>0.000000</td>\n",
       "      <td>0.0</td>\n",
       "      <td>0.0</td>\n",
       "      <td>0.0</td>\n",
       "      <td>0.000000</td>\n",
       "      <td>0.0</td>\n",
       "      <td>0.0</td>\n",
       "      <td>0.000000</td>\n",
       "      <td>0.0</td>\n",
       "    </tr>\n",
       "    <tr>\n",
       "      <th>ENSG00000119986.6</th>\n",
       "      <td>0.199346</td>\n",
       "      <td>0.000000</td>\n",
       "      <td>0.943129</td>\n",
       "      <td>0.000000</td>\n",
       "      <td>0.000000</td>\n",
       "      <td>0.344649</td>\n",
       "      <td>0.000000</td>\n",
       "      <td>0.373762</td>\n",
       "      <td>0.000000</td>\n",
       "      <td>0.000000</td>\n",
       "      <td>...</td>\n",
       "      <td>2.86533</td>\n",
       "      <td>2.864509</td>\n",
       "      <td>0.0</td>\n",
       "      <td>0.0</td>\n",
       "      <td>0.0</td>\n",
       "      <td>0.000000</td>\n",
       "      <td>0.0</td>\n",
       "      <td>0.0</td>\n",
       "      <td>2.881014</td>\n",
       "      <td>0.0</td>\n",
       "    </tr>\n",
       "  </tbody>\n",
       "</table>\n",
       "<p>5 rows × 2065 columns</p>\n",
       "</div>"
      ],
      "text/plain": [
       "                           2         3         4         5         6  \\\n",
       "0                                                                      \n",
       "ENSG00000130827.6   0.000000  0.000000  0.000000  0.000000  0.000000   \n",
       "ENSG00000187123.14  0.000000  0.000000  0.000000  0.332602  0.000000   \n",
       "ENSG00000272398.5   0.598038  0.895843  0.314376  0.000000  2.392753   \n",
       "ENSG00000134852.14  0.398692  0.000000  0.314376  0.332602  0.000000   \n",
       "ENSG00000119986.6   0.199346  0.000000  0.943129  0.000000  0.000000   \n",
       "\n",
       "                           7         8         9        10        11  ...   \\\n",
       "0                                                                     ...    \n",
       "ENSG00000130827.6   0.000000  0.000000  0.000000  0.000000  0.000000  ...    \n",
       "ENSG00000187123.14  0.000000  0.000000  0.000000  0.000000  0.000000  ...    \n",
       "ENSG00000272398.5   1.378597  1.041594  0.373762  0.379478  0.395335  ...    \n",
       "ENSG00000134852.14  0.000000  0.000000  0.000000  1.138434  0.395335  ...    \n",
       "ENSG00000119986.6   0.344649  0.000000  0.373762  0.000000  0.000000  ...    \n",
       "\n",
       "                       2057      2058  2059  2060  2061      2062  2063  2064  \\\n",
       "0                                                                               \n",
       "ENSG00000130827.6   0.00000  0.000000   0.0   0.0   0.0  0.000000   0.0   0.0   \n",
       "ENSG00000187123.14  0.00000  0.000000   0.0   0.0   0.0  0.000000   0.0   0.0   \n",
       "ENSG00000272398.5   0.00000  0.000000   0.0   0.0   0.0  2.872738   0.0   0.0   \n",
       "ENSG00000134852.14  0.00000  0.000000   0.0   0.0   0.0  0.000000   0.0   0.0   \n",
       "ENSG00000119986.6   2.86533  2.864509   0.0   0.0   0.0  0.000000   0.0   0.0   \n",
       "\n",
       "                        2065  2066  \n",
       "0                                   \n",
       "ENSG00000130827.6   0.000000   0.0  \n",
       "ENSG00000187123.14  0.000000   0.0  \n",
       "ENSG00000272398.5   0.000000   0.0  \n",
       "ENSG00000134852.14  0.000000   0.0  \n",
       "ENSG00000119986.6   2.881014   0.0  \n",
       "\n",
       "[5 rows x 2065 columns]"
      ]
     },
     "execution_count": 20,
     "metadata": {},
     "output_type": "execute_result"
    }
   ],
   "source": [
    "#subset dataframe to keep only variable genes\n",
    "tpm_var_genes = tpm.loc[var_df['sig']]\n",
    "print(tpm_var_genes.shape)\n",
    "tpm_var_genes.head()"
   ]
  },
  {
   "cell_type": "code",
   "execution_count": 21,
   "metadata": {},
   "outputs": [],
   "source": [
    "tpm_var_genes.to_csv(save_dir+\"tpm_all_vg_0.02.csv\")"
   ]
  }
 ],
 "metadata": {
  "kernelspec": {
   "display_name": "py3_cshl",
   "language": "python",
   "name": "python3"
  },
  "language_info": {
   "codemirror_mode": {
    "name": "ipython",
    "version": 3
   },
   "file_extension": ".py",
   "mimetype": "text/x-python",
   "name": "python",
   "nbconvert_exporter": "python",
   "pygments_lexer": "ipython3",
   "version": "3.6.6"
  }
 },
 "nbformat": 4,
 "nbformat_minor": 2
}
