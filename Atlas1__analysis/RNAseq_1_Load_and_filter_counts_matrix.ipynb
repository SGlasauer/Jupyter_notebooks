{
 "cells": [
  {
   "cell_type": "code",
   "execution_count": 1,
   "metadata": {},
   "outputs": [],
   "source": [
    "import pandas as pd\n",
    "import seaborn as sns\n",
    "\n",
    "# Lets us import sparse matrices\n",
    "import scipy.io\n",
    "import scipy.sparse\n",
    "import csv\n",
    "\n",
    "\n",
    "#from lets us import only a part of that package rather than the entire thing. \n",
    "#We only need the pyplot section of matplotlib so we are only importing that.\n",
    "from matplotlib import pyplot as plt\n",
    "\n",
    "#In order for plots to appear in the notebook we need this:\n",
    "%matplotlib inline"
   ]
  },
  {
   "cell_type": "code",
   "execution_count": 2,
   "metadata": {},
   "outputs": [
    {
     "data": {
      "text/plain": [
       "'/home/ucsd-train13/cshl_2018/processed_data_rna_experiments'"
      ]
     },
     "execution_count": 2,
     "metadata": {},
     "output_type": "execute_result"
    }
   ],
   "source": [
    "data_dir = \"/home/ucsd-train13/cshl_2018/processed_data_rna_experiments\"\n",
    "\n",
    "#Take a look at the string stored in the data_dir variable\n",
    "data_dir\n",
    "#prints out data_dir because it is the last line in the cell"
   ]
  },
  {
   "cell_type": "code",
   "execution_count": null,
   "metadata": {},
   "outputs": [],
   "source": [
    "#define function we are going to use later\n",
    "def read_mtx_as_dataframe(mtx_file, columns_file, rows_file):\n",
    "    \"\"\"\n",
    "    Reads a mtx file and returns a pandas dataframe.\n",
    "    \n",
    "    :param mtx_file: sparse matrix\n",
    "    :param columns_file: tab-separated file containing column names\n",
    "    :param rows_file: tab-separated file containing row names\n",
    "    \n",
    "    :return df: Pandas.DataFrame()\n",
    "    \"\"\"\n",
    "    mat = scipy.io.mmread(mtx_file)\n",
    "    columns = [\n",
    "        row[0] for row in csv.reader(open(columns_file), delimiter=\"\\t\")\n",
    "    ]\n",
    "    rows = [\n",
    "        row[0] for row in csv.reader(open(rows_file), delimiter=\"\\t\")\n",
    "    ]\n",
    "    df = pd.DataFrame(mat.todense(), columns=columns, index=rows)\n",
    "    return df"
   ]
  },
  {
   "cell_type": "code",
   "execution_count": null,
   "metadata": {},
   "outputs": [],
   "source": []
  }
 ],
 "metadata": {
  "kernelspec": {
   "display_name": "py3_cshl",
   "language": "python",
   "name": "python3"
  },
  "language_info": {
   "codemirror_mode": {
    "name": "ipython",
    "version": 3
   },
   "file_extension": ".py",
   "mimetype": "text/x-python",
   "name": "python",
   "nbconvert_exporter": "python",
   "pygments_lexer": "ipython3",
   "version": "3.6.6"
  }
 },
 "nbformat": 4,
 "nbformat_minor": 2
}
