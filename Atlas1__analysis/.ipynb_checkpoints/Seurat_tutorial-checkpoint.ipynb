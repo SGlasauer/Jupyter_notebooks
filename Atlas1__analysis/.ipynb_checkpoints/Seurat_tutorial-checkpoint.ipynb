{
 "cells": [
  {
   "cell_type": "code",
   "execution_count": 1,
   "metadata": {},
   "outputs": [
    {
     "ename": "SyntaxError",
     "evalue": "keyword can't be an expression (<ipython-input-1-055861e8ad45>, line 4)",
     "output_type": "error",
     "traceback": [
      "\u001b[0;36m  File \u001b[0;32m\"<ipython-input-1-055861e8ad45>\"\u001b[0;36m, line \u001b[0;32m4\u001b[0m\n\u001b[0;31m    haber.data <- Read10X(data.dir = \"/home/ucsd-train27/scratch/projects/haber_batch1/cellranger_results/Atlas1_batch1/outs/filtered_gene_bc_matrices/mm10\")\u001b[0m\n\u001b[0m                         ^\u001b[0m\n\u001b[0;31mSyntaxError\u001b[0m\u001b[0;31m:\u001b[0m keyword can't be an expression\n"
     ]
    }
   ],
   "source": [
    "library(Seurat)\n",
    "\n",
    "# Load the Haber full dataset\n",
    "haber.data <- Read10X(data.dir = \"/home/ucsd-train27/scratch/projects/haber_batch1/cellranger_results/Atlas1_batch1/outs/filtered_gene_bc_matrices/mm10\")"
   ]
  },
  {
   "cell_type": "code",
   "execution_count": null,
   "metadata": {},
   "outputs": [],
   "source": [
    "dim(haber.data)"
   ]
  },
  {
   "cell_type": "code",
   "execution_count": null,
   "metadata": {},
   "outputs": [],
   "source": [
    "# Initialize the Seurat object with the raw (non-normalized data).  Keep all\n",
    "# genes expressed in >= 80 cells (~5% of the data). Keep all cells with at\n",
    "# least 200 detected genes\n",
    "haber <- CreateSeuratObject(raw.data = haber.data, min.cells = 80 , min.genes = 200)"
   ]
  },
  {
   "cell_type": "code",
   "execution_count": null,
   "metadata": {},
   "outputs": [],
   "source": [
    "# The number of genes and UMIs (nGene and nUMI) are automatically calculated\n",
    "# for every object by Seurat.  \n",
    "VlnPlot(object = haber, features.plot = c(\"nGene\", \"nUMI\"), nCol = 2)\n",
    "\n",
    "#you can also plot mitochondrial genes"
   ]
  },
  {
   "cell_type": "code",
   "execution_count": null,
   "metadata": {},
   "outputs": [],
   "source": [
    "# GenePlot is typically used to visualize gene-gene relationships, but can\n",
    "# be used for anything calculated by the object, i.e. columns in\n",
    "# object@meta.data, PC scores etc.  We can filter low UMI\n",
    "GenePlot(object = haber, gene1 = \"nUMI\", gene2 = \"nGene\")"
   ]
  },
  {
   "cell_type": "code",
   "execution_count": null,
   "metadata": {},
   "outputs": [],
   "source": [
    "# We filter out cells that have unique gene counts over 2,500 or less than\n",
    "# 200 Note that low.thresholds and high.thresholds are used to define a\n",
    "# 'gate'.  -Inf and Inf should be used if you don't want a lower or upper\n",
    "# threshold.\n",
    "haber <- FilterCells(object = haber, subset.names = c(\"nGene\"), \n",
    "    low.thresholds = c(600), high.thresholds = c(4000))\n",
    "GenePlot(object = haber, gene1 = \"nUMI\", gene2 = \"nGene\")"
   ]
  },
  {
   "cell_type": "code",
   "execution_count": null,
   "metadata": {},
   "outputs": [],
   "source": [
    "#normalizing the data\n",
    "haber <- NormalizeData(object = haber, normalization.method = \"LogNormalize\", \n",
    "    scale.factor = 10000)"
   ]
  },
  {
   "cell_type": "code",
   "execution_count": null,
   "metadata": {},
   "outputs": [],
   "source": [
    "#find variable genes\n",
    "haber <- FindVariableGenes(object = haber)"
   ]
  },
  {
   "cell_type": "code",
   "execution_count": null,
   "metadata": {},
   "outputs": [],
   "source": [
    "#check how many variable genes were defined\n",
    "length(x = haber@var.genes)"
   ]
  },
  {
   "cell_type": "code",
   "execution_count": null,
   "metadata": {},
   "outputs": [],
   "source": [
    "#scaling data and removing unwanted source of variation\n",
    "haber <- ScaleData(object = haber, vars.to.regress = c(\"nUMI\"))"
   ]
  },
  {
   "cell_type": "code",
   "execution_count": null,
   "metadata": {},
   "outputs": [],
   "source": [
    "#perform PCA\n",
    "haber <- RunPCA(object = haber, pc.genes = haber@var.genes, do.print = TRUE, pcs.print = 1:5, \n",
    "    genes.print = 5)"
   ]
  },
  {
   "cell_type": "code",
   "execution_count": null,
   "metadata": {},
   "outputs": [],
   "source": [
    "#visualize PCAs to decide which ones to keep\n",
    "VizPCA(object = haber, pcs.use = 1:2)\n",
    "#graphs will show you "
   ]
  },
  {
   "cell_type": "code",
   "execution_count": null,
   "metadata": {},
   "outputs": [],
   "source": [
    "#plot the first 2 PCAs\n",
    "PCAPlot(object = haber, dim.1 = 1, dim.2 = 2)"
   ]
  },
  {
   "cell_type": "code",
   "execution_count": null,
   "metadata": {},
   "outputs": [],
   "source": [
    "#plot heatmaps of PCs to inspect them further\n",
    "PCHeatmap(object = haber, pc.use = 1:12, cells.use = 500, do.balanced = TRUE, \n",
    "    label.columns = FALSE, use.full = FALSE)"
   ]
  },
  {
   "cell_type": "code",
   "execution_count": null,
   "metadata": {},
   "outputs": [],
   "source": [
    "#Make jackstraw plots to determine statistically significant PCs\n",
    "# NOTE: This process can take a long time for big datasets, comment out for\n",
    "# expediency.  More approximate techniques such as those implemented in\n",
    "# PCElbowPlot() can be used to reduce computation time\n",
    "haber <- JackStraw(object = haber, num.replicate = 100)"
   ]
  },
  {
   "cell_type": "code",
   "execution_count": null,
   "metadata": {},
   "outputs": [],
   "source": [
    "JackStrawPlot(object = haber, PCs = 1:18)"
   ]
  },
  {
   "cell_type": "code",
   "execution_count": null,
   "metadata": {},
   "outputs": [],
   "source": [
    "PCElbowPlot(object = haber)"
   ]
  },
  {
   "cell_type": "code",
   "execution_count": null,
   "metadata": {},
   "outputs": [],
   "source": [
    "###Clustering the cells\n",
    "# save.SNN = T saves the SNN so that the clustering algorithm can be rerun\n",
    "# using the same graph but with a different resolution value (see docs for\n",
    "# full details)\n",
    "haber <- FindClusters(object = haber, reduction.type = \"pca\", dims.use = 1:15, \n",
    "    resolution = 0.6, print.output = 0, save.SNN = TRUE)"
   ]
  },
  {
   "cell_type": "code",
   "execution_count": null,
   "metadata": {},
   "outputs": [],
   "source": [
    "PrintFindClustersParams(object = haber)"
   ]
  },
  {
   "cell_type": "code",
   "execution_count": null,
   "metadata": {},
   "outputs": [],
   "source": [
    "####tSNE\n",
    "haber <- RunTSNE(object = haber, dims.use = 1:15, do.fast = TRUE)"
   ]
  },
  {
   "cell_type": "code",
   "execution_count": null,
   "metadata": {},
   "outputs": [],
   "source": [
    "# note that you can set do.label=T to help label individual clusters\n",
    "TSNEPlot(object = haber)"
   ]
  },
  {
   "cell_type": "code",
   "execution_count": null,
   "metadata": {},
   "outputs": [],
   "source": [
    "# Visualization by UMI counts\n",
    "FeaturePlot(haber, features.plot=c('nUMI'), pt.size=1, no.legend = FALSE)"
   ]
  },
  {
   "cell_type": "code",
   "execution_count": null,
   "metadata": {},
   "outputs": [],
   "source": [
    "###find differentially expressed genes\n",
    "# find markers for every cluster compared to all remaining cells, report\n",
    "# only the positive ones\n",
    "haber.markers <- FindAllMarkers(object = haber, only.pos = TRUE)"
   ]
  },
  {
   "cell_type": "code",
   "execution_count": null,
   "metadata": {},
   "outputs": [],
   "source": [
    "library(dplyr)\n",
    "top5 <- haber.markers %>% group_by(cluster) %>% top_n(5, avg_logFC)\n",
    "top5"
   ]
  },
  {
   "cell_type": "code",
   "execution_count": null,
   "metadata": {},
   "outputs": [],
   "source": [
    "DoHeatmap(object = haber, genes.use = top5$gene, slim.col.label = TRUE, remove.key = TRUE, col.low = \"blue4\",\n",
    "  col.mid = \"white\", col.high = \"red\")"
   ]
  },
  {
   "cell_type": "code",
   "execution_count": null,
   "metadata": {},
   "outputs": [],
   "source": [
    "FeaturePlot(object = haber, features.plot = c(\"Ifitm3\",\"Top2a\",\"Fcgbp\",\"Apoc3\",\"Tac1\",\"Lrmp\",\"Gzma\",\"Gm7861\"), \n",
    "            cols.use = c(\"lightgrey\", \"blue\"))"
   ]
  },
  {
   "cell_type": "code",
   "execution_count": null,
   "metadata": {},
   "outputs": [],
   "source": [
    "VlnPlot(object = haber, features.plot = c(\"Ifitm3\",\"Top2a\",\"Fcgbp\",\"Apoc3\",\"Tac1\",\"Lrmp\",\"Gzma\",\"Gm7861\"),point.size.use=0.1)"
   ]
  },
  {
   "cell_type": "code",
   "execution_count": null,
   "metadata": {},
   "outputs": [],
   "source": [
    "VlnPlot(object = haber, features.plot = c(\"Ifitm3\",\"Top2a\",\"Fcgbp\",\"Apoc3\",\"Tac1\",\"Lrmp\",\"Gzma\",\"Gm7861\")\n",
    "        ,point.size.use=0.1, use.raw = T, y.log=T)"
   ]
  },
  {
   "cell_type": "code",
   "execution_count": null,
   "metadata": {},
   "outputs": [],
   "source": [
    "# Dot plots - the size of the dot corresponds to the percentage of cells\n",
    "# expressing the gene in each cluster. The color represents the average\n",
    "# expression level\n",
    "DotPlot(object = haber, genes.plot = c(\"Ifitm3\",\"Top2a\",\"Fcgbp\",\"Apoc3\",\"Tac1\",\"Lrmp\",\"Gzma\",\"Gm7861\"),\n",
    "        plot.legend = TRUE)"
   ]
  }
 ],
 "metadata": {
  "kernelspec": {
   "display_name": "py3_cshl",
   "language": "python",
   "name": "python3"
  },
  "language_info": {
   "codemirror_mode": {
    "name": "ipython",
    "version": 3
   },
   "file_extension": ".py",
   "mimetype": "text/x-python",
   "name": "python",
   "nbconvert_exporter": "python",
   "pygments_lexer": "ipython3",
   "version": "3.6.6"
  }
 },
 "nbformat": 4,
 "nbformat_minor": 2
}
